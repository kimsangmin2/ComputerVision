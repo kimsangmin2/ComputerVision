{
 "cells": [
  {
   "cell_type": "markdown",
   "metadata": {},
   "source": [
    "# 1.5.4 Introduction to SIFT (Scale-Invariant Feature Transform)"
   ]
  },
  {
   "cell_type": "code",
   "execution_count": 2,
   "metadata": {},
   "outputs": [],
   "source": [
    "import cv2\n",
    "import numpy as np"
   ]
  },
  {
   "cell_type": "code",
   "execution_count": 3,
   "metadata": {},
   "outputs": [],
   "source": [
    "img = cv2.imread('horse-beach.jpg')\n",
    "gray= cv2.cvtColor(img,cv2.COLOR_BGR2GRAY)"
   ]
  },
  {
   "cell_type": "code",
   "execution_count": 4,
   "metadata": {},
   "outputs": [],
   "source": [
    "sift = cv2.SIFT_create()\n",
    "kp = sift.detect(gray,None)\n",
    "img=cv2.drawKeypoints(img,kp,img,flags=cv2.DRAW_MATCHES_FLAGS_DRAW_RICH_KEYPOINTS)"
   ]
  },
  {
   "cell_type": "code",
   "execution_count": 6,
   "metadata": {},
   "outputs": [],
   "source": [
    "cv2.imshow('dst',img)\n",
    "cv2.waitKey(0)\n",
    "cv2.destroyAllWindows()"
   ]
  },
  {
   "cell_type": "markdown",
   "metadata": {},
   "source": [
    "# 1.5.5 Introduction to SURF (Speeded-Up Robust Features)"
   ]
  },
  {
   "cell_type": "code",
   "execution_count": null,
   "metadata": {},
   "outputs": [],
   "source": [
    ">>> img = cv2.imread('fly.png',0)\n",
    "# Create SURF object. You can specify params here or later.\n",
    "# Here I set Hessian Threshold to 400\n",
    ">>> surf = cv2.SURF(400)\n",
    "# Find keypoints and descriptors directly\n",
    ">>> kp, des = surf.detectAndCompute(img,None)"
   ]
  },
  {
   "cell_type": "code",
   "execution_count": null,
   "metadata": {},
   "outputs": [],
   "source": [
    ">>> len(kp)\n",
    "699"
   ]
  },
  {
   "cell_type": "code",
   "execution_count": null,
   "metadata": {},
   "outputs": [],
   "source": [
    "# Check present Hessian threshold\n",
    ">>> print surf.hessianThreshold\n",
    "400.0\n",
    "# We set it to some 50000. Remember, it is just for representing in picture.\n",
    "# In actual cases, it is better to have a value 300-500\n",
    ">>> surf.hessianThreshold = 50000\n",
    "# Again compute keypoints and check its number.\n",
    ">>> kp, des = surf.detectAndCompute(img,None)\n",
    ">>> print len(kp)\n",
    "47"
   ]
  },
  {
   "cell_type": "code",
   "execution_count": null,
   "metadata": {},
   "outputs": [],
   "source": [
    ">>> img2 = cv2.drawKeypoints(img,kp,None,(255,0,0),4)\n",
    ">>> plt.imshow(img2),plt.show()"
   ]
  },
  {
   "cell_type": "code",
   "execution_count": null,
   "metadata": {},
   "outputs": [],
   "source": [
    "# Find size of descriptor\n",
    ">>> print surf.descriptorSize()\n",
    "64\n",
    "# That means flag, \"extended\" is False.\n",
    ">>> surf.extended\n",
    "False\n",
    "# So we make it to True to get 128-dim descriptors.\n",
    ">>> surf.extended = True\n",
    ">>> kp, des = surf.detectAndCompute(img,None)\n",
    ">>> print surf.descriptorSize()\n",
    "128"
   ]
  },
  {
   "cell_type": "code",
   "execution_count": null,
   "metadata": {},
   "outputs": [],
   "source": [
    ">>> print des.shape\n",
    "(47, 128)"
   ]
  },
  {
   "cell_type": "markdown",
   "metadata": {},
   "source": [
    "# 1.5.6 FAST Algorithm for Corner Detection"
   ]
  },
  {
   "cell_type": "code",
   "execution_count": 8,
   "metadata": {},
   "outputs": [],
   "source": [
    "import numpy as np\n",
    "import cv2\n",
    "from matplotlib import pyplot as plt"
   ]
  },
  {
   "cell_type": "code",
   "execution_count": null,
   "metadata": {},
   "outputs": [],
   "source": [
    "img = cv2.imread('simple.jpg',0)\n",
    "# Initiate FAST object with default values\n",
    "fast = cv2.FastFeatureDetector()\n",
    "# find and draw the keypoints\n",
    "kp = fast.detect(img,None)\n",
    "img2 = cv2.drawKeypoints(img, kp, color=(255,0,0))\n",
    "# Print all default params\n",
    "print \"Threshold: \", fast.getInt('threshold')\n",
    "print \"nonmaxSuppression: \", fast.getBool('nonmaxSuppression')\n",
    "print \"neighborhood: \", fast.getInt('type')\n",
    "print \"Total Keypoints with nonmaxSuppression: \", len(kp)\n",
    "cv2.imwrite('fast_true.png',img2)\n",
    "# Disable nonmaxSuppression\n",
    "fast.setBool('nonmaxSuppression',0)\n",
    "kp = fast.detect(img,None)\n",
    "print \"Total Keypoints without nonmaxSuppression: \", len(kp)\n",
    "img3 = cv2.drawKeypoints(img, kp, color=(255,0,0))\n",
    "cv2.imwrite('fast_false.png',img3)"
   ]
  },
  {
   "cell_type": "markdown",
   "metadata": {},
   "source": [
    "# 1.5.7 BRIEF (Binary Robust Independent Elementary Features)"
   ]
  },
  {
   "cell_type": "code",
   "execution_count": null,
   "metadata": {},
   "outputs": [],
   "source": [
    "import numpy as np\n",
    "import cv2\n",
    "from matplotlib import pyplot as plt"
   ]
  },
  {
   "cell_type": "code",
   "execution_count": null,
   "metadata": {},
   "outputs": [],
   "source": [
    "img = cv2.imread('simple.jpg',0)\n",
    "# Initiate STAR detector\n",
    "star = cv2.FeatureDetector_create(\"STAR\")\n",
    "# Initiate BRIEF extractor\n",
    "brief = cv2.DescriptorExtractor_create(\"BRIEF\")\n",
    "# find the keypoints with STAR\n",
    "kp = star.detect(img,None)\n",
    "# compute the descriptors with BRIEF\n",
    "kp, des = brief.compute(img, kp)\n",
    "print brief.getInt('bytes')\n",
    "print des.shape"
   ]
  },
  {
   "cell_type": "markdown",
   "metadata": {},
   "source": [
    "# 1.5.8 ORB (Oriented FAST and Rotated BRIEF)"
   ]
  },
  {
   "cell_type": "code",
   "execution_count": null,
   "metadata": {},
   "outputs": [],
   "source": [
    "import numpy as np\n",
    "import cv2\n",
    "from matplotlib import pyplot as plt"
   ]
  },
  {
   "cell_type": "code",
   "execution_count": null,
   "metadata": {},
   "outputs": [],
   "source": [
    "img = cv2.imread('simple.jpg',0)\n",
    "# Initiate STAR detector\n",
    "orb = cv2.ORB()\n",
    "# find the keypoints with ORB\n",
    "kp = orb.detect(img,None)\n",
    "# compute the descriptors with ORB\n",
    "kp, des = orb.compute(img, kp)\n",
    "# draw only keypoints location,not size and orientation\n",
    "img2 = cv2.drawKeypoints(img,kp,color=(0,255,0), flags=0)\n",
    "plt.imshow(img2),plt.show()"
   ]
  }
 ],
 "metadata": {
  "kernelspec": {
   "display_name": "Python 3",
   "language": "python",
   "name": "python3"
  },
  "language_info": {
   "codemirror_mode": {
    "name": "ipython",
    "version": 3
   },
   "file_extension": ".py",
   "mimetype": "text/x-python",
   "name": "python",
   "nbconvert_exporter": "python",
   "pygments_lexer": "ipython3",
   "version": "3.8.3"
  }
 },
 "nbformat": 4,
 "nbformat_minor": 4
}
