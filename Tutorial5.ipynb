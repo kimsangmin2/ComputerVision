{
 "cells": [
  {
   "cell_type": "markdown",
   "metadata": {},
   "source": [
    "# Boolean Expressions\n",
    "\n",
    "# True and False\n",
    "\n",
    "# Comparison operatiors: ==, !=, <, <=, etc.\n",
    "\n",
    "## X == Y\n",
    "## X and Y have same value (like Java equals method\n",
    "\n",
    "## X is Y :\n",
    "## X and Y refer to the exact same object (like Java ==)\n",
    "\n",
    "# Logical Operators\n",
    "## True if a is True and b is True: a and b\n",
    "## True if a is True or b is True:    a  or   b\n",
    "## True if a is False:                       not a\n",
    "\n",
    "# Conditional Expressions\n",
    "## x = true_value if condition else false_value"
   ]
  },
  {
   "cell_type": "code",
   "execution_count": null,
   "metadata": {},
   "outputs": [],
   "source": []
  }
 ],
 "metadata": {
  "kernelspec": {
   "display_name": "Python 3",
   "language": "python",
   "name": "python3"
  },
  "language_info": {
   "codemirror_mode": {
    "name": "ipython",
    "version": 3
   },
   "file_extension": ".py",
   "mimetype": "text/x-python",
   "name": "python",
   "nbconvert_exporter": "python",
   "pygments_lexer": "ipython3",
   "version": "3.8.3"
  }
 },
 "nbformat": 4,
 "nbformat_minor": 4
}
