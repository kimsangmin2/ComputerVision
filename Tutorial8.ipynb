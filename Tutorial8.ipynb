{
 "cells": [
  {
   "cell_type": "markdown",
   "metadata": {},
   "source": [
    "# Generating Lists using \"List Comprehensions\"\n",
    "\n",
    "## List Comprehensions 1\n",
    "## A powerful feature of the Python language.\n",
    "### Generate a new list by applying a function to every member of an original list.\n",
    "### Python programmers use list comprehensions extensively. You’ll see many of them in real code.\n",
    "\n",
    "#### [expression for name in list]"
   ]
  },
  {
   "cell_type": "code",
   "execution_count": 1,
   "metadata": {},
   "outputs": [],
   "source": [
    "li = [3, 6, 2, 7]"
   ]
  },
  {
   "cell_type": "code",
   "execution_count": 2,
   "metadata": {},
   "outputs": [
    {
     "data": {
      "text/plain": [
       "[6, 12, 4, 14]"
      ]
     },
     "execution_count": 2,
     "metadata": {},
     "output_type": "execute_result"
    }
   ],
   "source": [
    "[elem*2 for elem in li]"
   ]
  },
  {
   "cell_type": "markdown",
   "metadata": {},
   "source": [
    "### Where expression is some calculation or operation acting upon the variable name.\n",
    "### For each member of the list, the list comprehension\n",
    "### 1. sets name equal to that member, and\n",
    "### 2. calculates a new value using expression\n",
    "### It then collects these new values into a list which is the return value of the list comprehension.\n",
    "\n",
    "## List Comprehensions 3\n",
    "### If the elements of list are other collections, then name can be replaced by a collection of names that match the “shape” of the list members."
   ]
  },
  {
   "cell_type": "code",
   "execution_count": 3,
   "metadata": {},
   "outputs": [],
   "source": [
    "li = [('a', 1), ('b', 2), ('c', 7)]"
   ]
  },
  {
   "cell_type": "code",
   "execution_count": 4,
   "metadata": {},
   "outputs": [
    {
     "data": {
      "text/plain": [
       "[3, 6, 21]"
      ]
     },
     "execution_count": 4,
     "metadata": {},
     "output_type": "execute_result"
    }
   ],
   "source": [
    "[ n * 3 for (x, n) in li]"
   ]
  },
  {
   "cell_type": "markdown",
   "metadata": {},
   "source": [
    "## Filtered List Comprehension 1\n",
    "\n",
    "### Filter determines whether expression is performed on each member of the list.\n",
    "### When processing each element of list, first check if it satisfies the filter condition.\n",
    "### If the filter condition returns Fasle, that element is omitted from the list before the list comprehension is evaluated.\n",
    "\n",
    "## Filtered List Comprehension 2"
   ]
  },
  {
   "cell_type": "code",
   "execution_count": 5,
   "metadata": {},
   "outputs": [],
   "source": [
    "li = [3, 6, 2, 7, 1, 9]"
   ]
  },
  {
   "cell_type": "code",
   "execution_count": 6,
   "metadata": {},
   "outputs": [
    {
     "data": {
      "text/plain": [
       "[12, 14, 18]"
      ]
     },
     "execution_count": 6,
     "metadata": {},
     "output_type": "execute_result"
    }
   ],
   "source": [
    "[elem * 2 for elem in li if elem > 4]"
   ]
  },
  {
   "cell_type": "markdown",
   "metadata": {},
   "source": [
    "## Nested List Comprehensions\n",
    "\n",
    "### Since list comprehensions take a list as input and produce a list as output, they are easily nested:"
   ]
  },
  {
   "cell_type": "code",
   "execution_count": 7,
   "metadata": {},
   "outputs": [],
   "source": [
    "li = [3, 2, 4, 1]"
   ]
  },
  {
   "cell_type": "code",
   "execution_count": 8,
   "metadata": {},
   "outputs": [
    {
     "data": {
      "text/plain": [
       "[8, 6, 10, 4]"
      ]
     },
     "execution_count": 8,
     "metadata": {},
     "output_type": "execute_result"
    }
   ],
   "source": [
    "[elem*2 for elem in\n",
    " [item+1 for item in li]]"
   ]
  },
  {
   "cell_type": "markdown",
   "metadata": {},
   "source": [
    "## For Loops / List Comprehensions\n",
    "\n",
    "### Python’s list comprehensions provide a natural idiom that usually requires a for-loop in other programming languages.\n",
    "   #### As a result, Python code uses many fewer for-loops\n",
    "\n",
    "### Caveat! The keywords for and in also appear in the syntax of list comprehensions, but this is a totally different construction."
   ]
  }
 ],
 "metadata": {
  "kernelspec": {
   "display_name": "Python 3",
   "language": "python",
   "name": "python3"
  },
  "language_info": {
   "codemirror_mode": {
    "name": "ipython",
    "version": 3
   },
   "file_extension": ".py",
   "mimetype": "text/x-python",
   "name": "python",
   "nbconvert_exporter": "python",
   "pygments_lexer": "ipython3",
   "version": "3.8.3"
  }
 },
 "nbformat": 4,
 "nbformat_minor": 4
}
